{
 "cells": [
  {
   "cell_type": "markdown",
   "metadata": {},
   "source": [
    "## The Pandas DataFrame: Làm cho việc làm với data trở nên thú vị\n",
    "   # Mục lục:\n",
    "<h2 slot='sh-1-1'>Giới thiệu Pandas DataFrame</h2>\n",
    "<h3 slot='sh-1-1'>Tạo một Pandas DataFrame</h3>\n",
    " <p>Tạo một Pandas DataFrame với Dictinaries</p >\n",
    " <p>Tạo một Pandas DataFrame với List</p >\n",
    " <p>Tạo một Pandas DataFrame với Numpy Arrays</p >\n",
    " <p>Tạo một Pandas DataFrame với File</p >\n",
    " \n",
    "<h3 slot='sh-1-1'>Truy xuất nhãn và dữ liệu</h3>\n",
    "    <p>Pandas DataFrame dưới dạng chuỗi</p >\n",
    "    <p>Dữ liệu với Numpy Arrays</p >\n",
    "    <p>Kiểu dữ liệu</p >\n",
    "    <p>Kích thước Pandas DataFrame</p>\n",
    "    \n",
    "    \n",
    "<h3 slot='sh-1-1'>Truy cập và sửa đổi dữ liệu</h3>\n",
    "    <p>Lấy dữ liệu với người truy cập/p >\n",
    "    <p>Cài đặt dữ liệu với người truy cập</p >\n",
    "    \n",
    "    \n",
    "<h3 slot='sh-1-1'>Chèn và xóa dữ liệu</h3>\n",
    "    <p>Chèn và cóa các cột</p >\n",
    "    <p>Chèn và xóa các hàng</p >\n",
    "    \n",
    "<h3 slot='sh-1-1'>Tạo một Pandas DataFrame</h3>\n",
    "<h3 slot='sh-1-1'>Áp dụng các phép tính số học</h3>\n",
    "<h3 slot='sh-1-1'>Áp dụng cho Numpy và Scipy</h3>\n",
    "<h3 slot='sh-1-1'>Sắp xếp một Pandas DataFrame</h3>\n",
    "<h3 slot='sh-1-1'>Lọc dữ liệu</h3>\n",
    "<h3 slot='sh-1-1'>Xác định số liệu thống kê dữ liệu</h3>\n",
    "<h3 slot='sh-1-1'>Xử lí dữ liệu bị sai</h3>\n",
    "    <p>Tính toán với dữ liệu bị sai</p >\n",
    "    <p>Đổ </p >\n",
    "    \n",
    "<h3 slot='sh-1-1'>Xác định số liệu thống kê dữ liệu</h3>\n",
    "<h3 slot='sh-1-1'>Lặp lại trên Pandas DataFrame</h3>\n",
    "<h3 slot='sh-1-1'>Làm việc với Time Series</h3>\n",
    "<h3 slot='sh-1-1'>Đọc thêm</h3>\n",
    "<h3 slot='sh-1-1'>Kết luận</h3>\n",
    "\n",
    "-------------------------------------------------------------------------\n",
    "\n",
    "Pandas DataFranme là một cấu trúc 2 chiều dữ liệu tương ứng với các nhãn của nó.DataFrame được sữ dụng rộng rãi trọng data science, machine learning, scientific computing, và nhiều lĩnh vực dữ liệu chuyên sâu.Data giống với SQL tables hoặc bảng tính mà bạn làm việc với Excel hoặc Calc. Trong nhiều trường hợp, DataFame nhanh hơn, và dễ sử dụng hơn. Mạnh hơn so với bảng hoặc bảng tính bởi vì chúng là một phần không thể thiếu của hệ sinh thái Python và Numpy \n",
    "-Trong hướng dân này, bạn sẽ học:\n",
    "    *Pandas DataFrame là cái gì? và nó sử dụng như thế nào.\n",
    "    *Cách truy cập, sửa đổi, thêm, sắp xếp, lọc, và xóa dữ liệu.\n",
    "    *Cách xữ lý dữ liệu bị thiếu.\n",
    "    *cách làm việc với time-series data.\n",
    "    *cách hình dung hóa dữ liệu một cách nhanh chóng.\n",
    "### Đến lúc bắt đầu với Pandas DataFrame !!\n",
    "\n",
    "\n"
   ]
  },
  {
   "cell_type": "markdown",
   "metadata": {},
   "source": [
    "# Giới thiệu Pandas DataFrame\n",
    "Pandas DataFrame là một cấu trúc dữ liệu mà nó chứa đựng :\n",
    "    <ol>-Dữ liệu: sắp xếp theo 2 chiều, hàng và cột</ol>\n",
    "    <ol>-Nhãn: mà nó tương ứng với các hàng và cột</ol>\n",
    "    <ol>-Bạn có thể bắt đầu làm việc với DataFrame bằng cách import Pandas</ol>\n"
   ]
  },
  {
   "cell_type": "code",
   "execution_count": 1247,
   "metadata": {},
   "outputs": [],
   "source": [
    "import pandas as pd"
   ]
  },
  {
   "cell_type": "markdown",
   "metadata": {},
   "source": [
    "<ol>Bây giờ bạn đã có Pandas, bạn đã có thể làm việc với DataFrame.</ol>\n",
    "\n",
    "<ol>Hình dùng bạn đang dùng Pandas để phân tích dữ liệu về các ứng viên công việc cho ví trị phát triển ứng dụng Web với Python. Bạn quan tâm về names, cities, ages, and  score, py-score </ol>\n",
    "\n",
    "***\n",
    "\n",
    "<ol>Trong bảng này, hàng đầu tiên chứa nhãn của cột(name, city, age, and py-score). Cột đầu tiên chứa nhãn của các hàng(101, 102,...).Tất cả ô khác được chứa dùng để chứa giá trị dữ liệu.</ol>\n",
    "<ol>Bây giờ bạn có mọi thứ bạn cần để tạo một Pandas DataFrame.</ol>\n",
    "<ol>Đây là một vài cách để tạo Pandas DataFrame. Trong nhiều trường hợp, bạn sẽ dùng (cấu trúc DataFrame) và cung cấp dữ liệu, nhãn, và các thông tin khác.(Bạn có thế chyển dữ liệu dưới dạng 2 chiều list,tuple, hoặc Numpy Array. Bạn cũng có thể chuyển nó dưới dạng dictionary hoặc Pandas Series hoặc một số kiểu dữ liệu khác không bao gồm trong hướng dẫn này. </ol>\n",
    "<ol>Đối với ví dụ này, giả sử bạn đang dùng dictionary để chuyển dữ liệu</ol>\n",
    "\n",
    "\n"
   ]
  },
  {
   "cell_type": "code",
   "execution_count": 1248,
   "metadata": {},
   "outputs": [],
   "source": [
    "import pandas as pd\n",
    "data = {\n",
    "    'name' : [\"Nam\", \"Hiếu\", \"jack\", \"Thìn\", \"Hải\", \"Quân\"],\n",
    "    'city' : [\"Vn\",\"Korea\", \"Fr\", \"Laos\",\"Phips\", \"Jp\"],\n",
    "    \"age\"  : [41, 28, 33, 34, 38, 31],\n",
    "    'score': [10.0, 9.0, 7.0, 9.0, 7.0, 1.0]\n",
    "}\n",
    "row_lables = [1, 2, 3, 4 , 5, 6]\n"
   ]
  },
  {
   "cell_type": "markdown",
   "metadata": {},
   "source": [
    "<ol>data là một biến trong Python mà nó đề cập trong dictionary mà ní chứa dữ liệu ứng viên</ol>\n",
    "<ol>'name'</ol>\n",
    "<ol>'city</ol>\n",
    "<ol>'age</ol>\n",
    "<ol>'score'</ol>\n",
    "<ol>Cuối cùng, row_labels đề cập đến một list mà nó chứa nhãn của các hàng, đó là các con số sắp xêp từ 1 đến 6.</ol>\n",
    "<ol>Bây giờ, bạn đã sẵn sàng để tạo một Pandas DataFrame</ol>"
   ]
  },
  {
   "cell_type": "code",
   "execution_count": 1249,
   "metadata": {
    "scrolled": false
   },
   "outputs": [
    {
     "data": {
      "text/html": [
       "<div>\n",
       "<style scoped>\n",
       "    .dataframe tbody tr th:only-of-type {\n",
       "        vertical-align: middle;\n",
       "    }\n",
       "\n",
       "    .dataframe tbody tr th {\n",
       "        vertical-align: top;\n",
       "    }\n",
       "\n",
       "    .dataframe thead th {\n",
       "        text-align: right;\n",
       "    }\n",
       "</style>\n",
       "<table border=\"1\" class=\"dataframe\">\n",
       "  <thead>\n",
       "    <tr style=\"text-align: right;\">\n",
       "      <th></th>\n",
       "      <th>name</th>\n",
       "      <th>city</th>\n",
       "      <th>age</th>\n",
       "      <th>score</th>\n",
       "    </tr>\n",
       "  </thead>\n",
       "  <tbody>\n",
       "    <tr>\n",
       "      <th>1</th>\n",
       "      <td>Nam</td>\n",
       "      <td>Vn</td>\n",
       "      <td>41</td>\n",
       "      <td>10.0</td>\n",
       "    </tr>\n",
       "    <tr>\n",
       "      <th>2</th>\n",
       "      <td>Hiếu</td>\n",
       "      <td>Korea</td>\n",
       "      <td>28</td>\n",
       "      <td>9.0</td>\n",
       "    </tr>\n",
       "    <tr>\n",
       "      <th>3</th>\n",
       "      <td>jack</td>\n",
       "      <td>Fr</td>\n",
       "      <td>33</td>\n",
       "      <td>7.0</td>\n",
       "    </tr>\n",
       "    <tr>\n",
       "      <th>4</th>\n",
       "      <td>Thìn</td>\n",
       "      <td>Laos</td>\n",
       "      <td>34</td>\n",
       "      <td>9.0</td>\n",
       "    </tr>\n",
       "    <tr>\n",
       "      <th>5</th>\n",
       "      <td>Hải</td>\n",
       "      <td>Phips</td>\n",
       "      <td>38</td>\n",
       "      <td>7.0</td>\n",
       "    </tr>\n",
       "    <tr>\n",
       "      <th>6</th>\n",
       "      <td>Quân</td>\n",
       "      <td>Jp</td>\n",
       "      <td>31</td>\n",
       "      <td>1.0</td>\n",
       "    </tr>\n",
       "  </tbody>\n",
       "</table>\n",
       "</div>"
      ],
      "text/plain": [
       "   name   city  age  score\n",
       "1   Nam     Vn   41   10.0\n",
       "2  Hiếu  Korea   28    9.0\n",
       "3  jack     Fr   33    7.0\n",
       "4  Thìn   Laos   34    9.0\n",
       "5   Hải  Phips   38    7.0\n",
       "6  Quân     Jp   31    1.0"
      ]
     },
     "execution_count": 1249,
     "metadata": {},
     "output_type": "execute_result"
    }
   ],
   "source": [
    "df = pd.DataFrame(data= data, index= row_lables)\n",
    "df"
   ]
  },
  {
   "cell_type": "markdown",
   "metadata": {},
   "source": [
    "Đây rồi! df là một biến mà nó tham chiếu đến Pandas DataFrame của bạn. Pandas DataFrame này giống như ở bảng ứng viên ở trên và có các đặc điểm sau\n",
    "   <ol>- Row labels từ 1 đến 6</ol>\n",
    "   <ol>- Column labels như là 'name', 'city', 'age', 'score'</ol>\n",
    "   <ol>- Data như là ứng viên name, các thành phố, tuổi, và score</ol>"
   ]
  },
  {
   "cell_type": "markdown",
   "metadata": {},
   "source": [
    "Hình này cho thấy nhãn và dữ liệu từ df:\n"
   ]
  },
  {
   "cell_type": "markdown",
   "metadata": {},
   "source": [
    "image"
   ]
  },
  {
   "cell_type": "markdown",
   "metadata": {},
   "source": [
    "<ol>row labels có màu xanh, trong khi column labels có màu đỏ và giá trị dữ liệu là màu tím.</ol>\n",
    "<ol>Pandas DataFrame đôi khi rất là lớn, làm cho nó không thực tế để nhìn hết tất cả các hàng cùng một lúc. Bạn có thể dùng head() để nhìn thấy một vài hàng đầu, và tail() để nhìn một vài hàng cuối</ol>\n",
    "    \n",
    "\n"
   ]
  },
  {
   "cell_type": "code",
   "execution_count": 1250,
   "metadata": {},
   "outputs": [
    {
     "data": {
      "text/html": [
       "<div>\n",
       "<style scoped>\n",
       "    .dataframe tbody tr th:only-of-type {\n",
       "        vertical-align: middle;\n",
       "    }\n",
       "\n",
       "    .dataframe tbody tr th {\n",
       "        vertical-align: top;\n",
       "    }\n",
       "\n",
       "    .dataframe thead th {\n",
       "        text-align: right;\n",
       "    }\n",
       "</style>\n",
       "<table border=\"1\" class=\"dataframe\">\n",
       "  <thead>\n",
       "    <tr style=\"text-align: right;\">\n",
       "      <th></th>\n",
       "      <th>name</th>\n",
       "      <th>city</th>\n",
       "      <th>age</th>\n",
       "      <th>score</th>\n",
       "    </tr>\n",
       "  </thead>\n",
       "  <tbody>\n",
       "    <tr>\n",
       "      <th>1</th>\n",
       "      <td>Nam</td>\n",
       "      <td>Vn</td>\n",
       "      <td>41</td>\n",
       "      <td>10.0</td>\n",
       "    </tr>\n",
       "    <tr>\n",
       "      <th>2</th>\n",
       "      <td>Hiếu</td>\n",
       "      <td>Korea</td>\n",
       "      <td>28</td>\n",
       "      <td>9.0</td>\n",
       "    </tr>\n",
       "  </tbody>\n",
       "</table>\n",
       "</div>"
      ],
      "text/plain": [
       "   name   city  age  score\n",
       "1   Nam     Vn   41   10.0\n",
       "2  Hiếu  Korea   28    9.0"
      ]
     },
     "execution_count": 1250,
     "metadata": {},
     "output_type": "execute_result"
    }
   ],
   "source": [
    "head = df.head(n= 2)\n",
    "head"
   ]
  },
  {
   "cell_type": "code",
   "execution_count": 1251,
   "metadata": {},
   "outputs": [
    {
     "data": {
      "text/html": [
       "<div>\n",
       "<style scoped>\n",
       "    .dataframe tbody tr th:only-of-type {\n",
       "        vertical-align: middle;\n",
       "    }\n",
       "\n",
       "    .dataframe tbody tr th {\n",
       "        vertical-align: top;\n",
       "    }\n",
       "\n",
       "    .dataframe thead th {\n",
       "        text-align: right;\n",
       "    }\n",
       "</style>\n",
       "<table border=\"1\" class=\"dataframe\">\n",
       "  <thead>\n",
       "    <tr style=\"text-align: right;\">\n",
       "      <th></th>\n",
       "      <th>name</th>\n",
       "      <th>city</th>\n",
       "      <th>age</th>\n",
       "      <th>score</th>\n",
       "    </tr>\n",
       "  </thead>\n",
       "  <tbody>\n",
       "    <tr>\n",
       "      <th>5</th>\n",
       "      <td>Hải</td>\n",
       "      <td>Phips</td>\n",
       "      <td>38</td>\n",
       "      <td>7.0</td>\n",
       "    </tr>\n",
       "    <tr>\n",
       "      <th>6</th>\n",
       "      <td>Quân</td>\n",
       "      <td>Jp</td>\n",
       "      <td>31</td>\n",
       "      <td>1.0</td>\n",
       "    </tr>\n",
       "  </tbody>\n",
       "</table>\n",
       "</div>"
      ],
      "text/plain": [
       "   name   city  age  score\n",
       "5   Hải  Phips   38    7.0\n",
       "6  Quân     Jp   31    1.0"
      ]
     },
     "execution_count": 1251,
     "metadata": {},
     "output_type": "execute_result"
    }
   ],
   "source": [
    "tail = df.tail(n= 2)\n",
    "tail"
   ]
  },
  {
   "cell_type": "markdown",
   "metadata": {},
   "source": [
    "Đó là cách bạn có thể hiển thị phần đầu và phần cuối của một Pandas DataFrame. Parameter n chỉ định các số của hàng để xem.\n",
    "<ol>Note: Nó có lẻ hữu ích để nghĩ về Pandas DataFrame như là cột của dictionary hoặc Pandas Series, cùng nhiều đặc trưng bổ sung</ol>\n",
    "Bạn có thể truy cập một cột trong Pandas DataFrame giống như bạn lấy giá trị từ dictionary.</ol>"
   ]
  },
  {
   "cell_type": "code",
   "execution_count": 1252,
   "metadata": {},
   "outputs": [
    {
     "data": {
      "text/plain": [
       "1       Vn\n",
       "2    Korea\n",
       "3       Fr\n",
       "4     Laos\n",
       "5    Phips\n",
       "6       Jp\n",
       "Name: city, dtype: object"
      ]
     },
     "execution_count": 1252,
     "metadata": {},
     "output_type": "execute_result"
    }
   ],
   "source": [
    "cities = df['city']\n",
    "cities"
   ]
  },
  {
   "cell_type": "markdown",
   "metadata": {},
   "source": [
    "* Đó là cách thuận tiện nhất để lấy 1 cột từ Pandas DataFrame. ......... *\n"
   ]
  },
  {
   "cell_type": "code",
   "execution_count": 1253,
   "metadata": {},
   "outputs": [
    {
     "data": {
      "text/plain": [
       "1       Vn\n",
       "2    Korea\n",
       "3       Fr\n",
       "4     Laos\n",
       "5    Phips\n",
       "6       Jp\n",
       "Name: city, dtype: object"
      ]
     },
     "execution_count": 1253,
     "metadata": {},
     "output_type": "execute_result"
    }
   ],
   "source": [
    "df.city"
   ]
  },
  {
   "cell_type": "markdown",
   "metadata": {},
   "source": [
    "Đó là cách bạn lấy một cột cụ thể. Bạn đã trích cột mà liên quan đển nhãn 'city'.Trong đó chứa đụng ví trí của tất cả ứng viên công việc của bạn. Điều quan trọng cần lưu ý là bạn trích 2 dữ liệu nhãn tương ứng."
   ]
  },
  {
   "cell_type": "markdown",
   "metadata": {},
   "source": [
    "Image"
   ]
  },
  {
   "cell_type": "markdown",
   "metadata": {},
   "source": [
    "Mỗi cột của DataFrame là một đối tướng của pandas.series, một cấu trúc mà chứa 1 chiều dữ liệu và nhãn của nó. Bạn có thể lấy một đối tướng duy nhất của Series như cách bạn làm với dictionary, bằng cách dùng nhãn nó như key."
   ]
  },
  {
   "cell_type": "code",
   "execution_count": 1254,
   "metadata": {},
   "outputs": [
    {
     "data": {
      "text/plain": [
       "'Vn'"
      ]
     },
     "execution_count": 1254,
     "metadata": {},
     "output_type": "execute_result"
    }
   ],
   "source": [
    "city1 = df.city[1]\n",
    "city1"
   ]
  },
  {
   "cell_type": "markdown",
   "metadata": {},
   "source": [
    "Trong trường hợp, 'Vn' là giá trị dữ liệu và 1 có liên quan đến nhãn. Như bạn sẽ thấy trong phần sau, ở đó có cách khác để lấy giá trị cụ thể trong Pandas DataFrame. Bạn vẫn có thể truy cập toàn bộ hàng cùng .loc[]"
   ]
  },
  {
   "cell_type": "code",
   "execution_count": 1255,
   "metadata": {},
   "outputs": [
    {
     "data": {
      "text/plain": [
       "name     Nam\n",
       "city      Vn\n",
       "age       41\n",
       "score     10\n",
       "Name: 1, dtype: object"
      ]
     },
     "execution_count": 1255,
     "metadata": {},
     "output_type": "execute_result"
    }
   ],
   "source": [
    "row1 = df.loc[1]\n",
    "row1"
   ]
  },
  {
   "cell_type": "markdown",
   "metadata": {},
   "source": [
    "Lúc này, bạn trích hàng mà có liên quan đến nhãn 1, trong đó chứa đứng dữ liệu của ứng viên tên là 'Nam'. Ngoài giá trị dữ liệu từ hàng, bạn đã trích nhãn có liên quan đến cột."
   ]
  },
  {
   "cell_type": "markdown",
   "metadata": {},
   "source": [
    "image"
   ]
  },
  {
   "cell_type": "markdown",
   "metadata": {},
   "source": [
    "Hàng trả về cũng là một thuộc tính của pandas.Series"
   ]
  },
  {
   "cell_type": "markdown",
   "metadata": {},
   "source": [
    "# Creating a Pandas DataFrame"
   ]
  },
  {
   "cell_type": "markdown",
   "metadata": {},
   "source": [
    "Như đã đề cập, ở đây là một vài cách để tạo Pandas DataFrame. Trong phần này, Bạn sẽ dùng cấu trúc DataFrame cùng với:\n",
    "    *Python dictionaries\n",
    "    *Python lists\n",
    "    *Two-dimension Numpy arrays\n",
    "    *file\n",
    "Bạn có thể bắt đầu bằng việc import Pandas cùng với Numpy, trong đó bạn sẽ dùng xuyên suốt ví dụ:"
   ]
  },
  {
   "cell_type": "code",
   "execution_count": 1256,
   "metadata": {},
   "outputs": [],
   "source": [
    "import numpy as np\n",
    "import pandas as pd"
   ]
  },
  {
   "cell_type": "markdown",
   "metadata": {},
   "source": [
    "Bây giờ bạn sẽ sàng để tạo một vài DataFrame"
   ]
  },
  {
   "cell_type": "markdown",
   "metadata": {},
   "source": [
    "## Tạo một Pandas DataFrame cùng với Dictionaries"
   ]
  },
  {
   "cell_type": "markdown",
   "metadata": {},
   "source": [
    "Như bạn đã thấy, bạn có thể tạo một Pandas DataFrame cùng với dictionary"
   ]
  },
  {
   "cell_type": "code",
   "execution_count": 1257,
   "metadata": {},
   "outputs": [
    {
     "data": {
      "text/html": [
       "<div>\n",
       "<style scoped>\n",
       "    .dataframe tbody tr th:only-of-type {\n",
       "        vertical-align: middle;\n",
       "    }\n",
       "\n",
       "    .dataframe tbody tr th {\n",
       "        vertical-align: top;\n",
       "    }\n",
       "\n",
       "    .dataframe thead th {\n",
       "        text-align: right;\n",
       "    }\n",
       "</style>\n",
       "<table border=\"1\" class=\"dataframe\">\n",
       "  <thead>\n",
       "    <tr style=\"text-align: right;\">\n",
       "      <th></th>\n",
       "      <th>x</th>\n",
       "      <th>y</th>\n",
       "      <th>z</th>\n",
       "    </tr>\n",
       "  </thead>\n",
       "  <tbody>\n",
       "    <tr>\n",
       "      <th>0</th>\n",
       "      <td>1</td>\n",
       "      <td>10</td>\n",
       "      <td>100</td>\n",
       "    </tr>\n",
       "    <tr>\n",
       "      <th>1</th>\n",
       "      <td>2</td>\n",
       "      <td>11</td>\n",
       "      <td>100</td>\n",
       "    </tr>\n",
       "    <tr>\n",
       "      <th>2</th>\n",
       "      <td>4</td>\n",
       "      <td>12</td>\n",
       "      <td>100</td>\n",
       "    </tr>\n",
       "  </tbody>\n",
       "</table>\n",
       "</div>"
      ],
      "text/plain": [
       "   x   y    z\n",
       "0  1  10  100\n",
       "1  2  11  100\n",
       "2  4  12  100"
      ]
     },
     "execution_count": 1257,
     "metadata": {},
     "output_type": "execute_result"
    }
   ],
   "source": [
    "d = {'x': [1, 2, 4], 'y': np.array([10, 11, 12]), 'z': 100}\n",
    "pd.DataFrame(d)"
   ]
  },
  {
   "cell_type": "markdown",
   "metadata": {},
   "source": [
    "keys của dictionary là các nhãn cột của DataFrame, và giá trị thư viện là các giá trị dữ liệu liên quan đến cột của DataFrame.  Giá trị có thể bao gồm tuple, list, Numpy một chiều, Pandas Series, hoặc một vài kiểu dữ liệu khác. Bạn cũng có thể cung cấp một giá trị duy nhất mà nó sẽ sao chép toàn bộ cột. Có thể điều khiển thứ tự  với parameter nhãn của hàng và cột với index "
   ]
  },
  {
   "cell_type": "code",
   "execution_count": 1258,
   "metadata": {},
   "outputs": [
    {
     "data": {
      "text/html": [
       "<div>\n",
       "<style scoped>\n",
       "    .dataframe tbody tr th:only-of-type {\n",
       "        vertical-align: middle;\n",
       "    }\n",
       "\n",
       "    .dataframe tbody tr th {\n",
       "        vertical-align: top;\n",
       "    }\n",
       "\n",
       "    .dataframe thead th {\n",
       "        text-align: right;\n",
       "    }\n",
       "</style>\n",
       "<table border=\"1\" class=\"dataframe\">\n",
       "  <thead>\n",
       "    <tr style=\"text-align: right;\">\n",
       "      <th></th>\n",
       "      <th>z</th>\n",
       "      <th>y</th>\n",
       "      <th>x</th>\n",
       "    </tr>\n",
       "  </thead>\n",
       "  <tbody>\n",
       "    <tr>\n",
       "      <th>100</th>\n",
       "      <td>100</td>\n",
       "      <td>10</td>\n",
       "      <td>1</td>\n",
       "    </tr>\n",
       "    <tr>\n",
       "      <th>101</th>\n",
       "      <td>100</td>\n",
       "      <td>11</td>\n",
       "      <td>2</td>\n",
       "    </tr>\n",
       "    <tr>\n",
       "      <th>102</th>\n",
       "      <td>100</td>\n",
       "      <td>12</td>\n",
       "      <td>4</td>\n",
       "    </tr>\n",
       "  </tbody>\n",
       "</table>\n",
       "</div>"
      ],
      "text/plain": [
       "       z   y  x\n",
       "100  100  10  1\n",
       "101  100  11  2\n",
       "102  100  12  4"
      ]
     },
     "execution_count": 1258,
     "metadata": {},
     "output_type": "execute_result"
    }
   ],
   "source": [
    "pd.DataFrame(d, index= [100, 101, 102], columns= ['z', 'y', 'x'])"
   ]
  },
  {
   "cell_type": "markdown",
   "metadata": {},
   "source": [
    "Như bạn có thể thấy, bạn đã cụ thể nhãn hàng là 100, 101, 102. Và thứ tự của cột là: z, y, x"
   ]
  },
  {
   "cell_type": "markdown",
   "metadata": {},
   "source": [
    "# Tạo một Pandas DataFrame với List"
   ]
  },
  {
   "cell_type": "markdown",
   "metadata": {},
   "source": [
    "Cách khác để tạo ra Pandas DataFrame là dùng một list của dictionaries"
   ]
  },
  {
   "cell_type": "code",
   "execution_count": 1259,
   "metadata": {},
   "outputs": [
    {
     "data": {
      "text/html": [
       "<div>\n",
       "<style scoped>\n",
       "    .dataframe tbody tr th:only-of-type {\n",
       "        vertical-align: middle;\n",
       "    }\n",
       "\n",
       "    .dataframe tbody tr th {\n",
       "        vertical-align: top;\n",
       "    }\n",
       "\n",
       "    .dataframe thead th {\n",
       "        text-align: right;\n",
       "    }\n",
       "</style>\n",
       "<table border=\"1\" class=\"dataframe\">\n",
       "  <thead>\n",
       "    <tr style=\"text-align: right;\">\n",
       "      <th></th>\n",
       "      <th>x</th>\n",
       "      <th>y</th>\n",
       "      <th>z</th>\n",
       "    </tr>\n",
       "  </thead>\n",
       "  <tbody>\n",
       "    <tr>\n",
       "      <th>0</th>\n",
       "      <td>1</td>\n",
       "      <td>2</td>\n",
       "      <td>3</td>\n",
       "    </tr>\n",
       "    <tr>\n",
       "      <th>1</th>\n",
       "      <td>k</td>\n",
       "      <td>h</td>\n",
       "      <td>y</td>\n",
       "    </tr>\n",
       "    <tr>\n",
       "      <th>2</th>\n",
       "      <td>2</td>\n",
       "      <td>10</td>\n",
       "      <td>100</td>\n",
       "    </tr>\n",
       "  </tbody>\n",
       "</table>\n",
       "</div>"
      ],
      "text/plain": [
       "   x   y    z\n",
       "0  1   2    3\n",
       "1  k   h    y\n",
       "2  2  10  100"
      ]
     },
     "execution_count": 1259,
     "metadata": {},
     "output_type": "execute_result"
    }
   ],
   "source": [
    "lst = [\n",
    "    {'x': 1, 'y': 2, 'z': 3},\n",
    "    {'x': 'k', 'y': 'h', 'z':'y'},\n",
    "    {'x': 2, 'y': 10, 'z': 100}\n",
    "]\n",
    "pd.DataFrame(lst)"
   ]
  },
  {
   "cell_type": "markdown",
   "metadata": {},
   "source": [
    "Lần nữa, keys của dictionary là các nhãn cột, và giá trị của dictionary là các giá trị trong DataFrame.\n",
    "\n",
    "Bạn cũng có thể dùng list lồng, hoặc list của list, như là các giá trị dữ liệu. Nếu bạn làm,  thì nên chỉ định rõ ràng nhãn của cột và hàng hoặc cả 2 khi bạn tạo DataFrame. \n"
   ]
  },
  {
   "cell_type": "code",
   "execution_count": 1260,
   "metadata": {},
   "outputs": [
    {
     "data": {
      "text/html": [
       "<div>\n",
       "<style scoped>\n",
       "    .dataframe tbody tr th:only-of-type {\n",
       "        vertical-align: middle;\n",
       "    }\n",
       "\n",
       "    .dataframe tbody tr th {\n",
       "        vertical-align: top;\n",
       "    }\n",
       "\n",
       "    .dataframe thead th {\n",
       "        text-align: right;\n",
       "    }\n",
       "</style>\n",
       "<table border=\"1\" class=\"dataframe\">\n",
       "  <thead>\n",
       "    <tr style=\"text-align: right;\">\n",
       "      <th></th>\n",
       "      <th>x</th>\n",
       "      <th>y</th>\n",
       "      <th>z</th>\n",
       "    </tr>\n",
       "  </thead>\n",
       "  <tbody>\n",
       "    <tr>\n",
       "      <th>0</th>\n",
       "      <td>1</td>\n",
       "      <td>2</td>\n",
       "      <td>3</td>\n",
       "    </tr>\n",
       "    <tr>\n",
       "      <th>1</th>\n",
       "      <td>2</td>\n",
       "      <td>4</td>\n",
       "      <td>5</td>\n",
       "    </tr>\n",
       "    <tr>\n",
       "      <th>2</th>\n",
       "      <td>2</td>\n",
       "      <td>4</td>\n",
       "      <td>1</td>\n",
       "    </tr>\n",
       "  </tbody>\n",
       "</table>\n",
       "</div>"
      ],
      "text/plain": [
       "   x  y  z\n",
       "0  1  2  3\n",
       "1  2  4  5\n",
       "2  2  4  1"
      ]
     },
     "execution_count": 1260,
     "metadata": {},
     "output_type": "execute_result"
    }
   ],
   "source": [
    "lst = [\n",
    "    [1, 2, 3],\n",
    "    [2, 4, 5],\n",
    "    [2, 4, 1]\n",
    "]\n",
    "pd.DataFrame(lst, columns= ['x', 'y', 'z'])"
   ]
  },
  {
   "cell_type": "markdown",
   "metadata": {},
   "source": [
    "Đó là cách bạn có thể dùng list lồng đê tạo một Pandas DataFrame. Bạn cũng có thể dùng 1 list của tuples bằng cách giống như vậy. Để làm, chỉ cần thay thế list lồng trong ví dụ trên với tuples.\n"
   ]
  },
  {
   "cell_type": "markdown",
   "metadata": {},
   "source": [
    "# Tạo 1 Pandas DataFrame với Numpy Arrays\n",
    "Bạn có thể chuyển Numpy Array 2 chiều đến cấu trúc DataFrame bằng cách giống như bạn làm với list."
   ]
  },
  {
   "cell_type": "code",
   "execution_count": 1261,
   "metadata": {},
   "outputs": [
    {
     "data": {
      "text/html": [
       "<div>\n",
       "<style scoped>\n",
       "    .dataframe tbody tr th:only-of-type {\n",
       "        vertical-align: middle;\n",
       "    }\n",
       "\n",
       "    .dataframe tbody tr th {\n",
       "        vertical-align: top;\n",
       "    }\n",
       "\n",
       "    .dataframe thead th {\n",
       "        text-align: right;\n",
       "    }\n",
       "</style>\n",
       "<table border=\"1\" class=\"dataframe\">\n",
       "  <thead>\n",
       "    <tr style=\"text-align: right;\">\n",
       "      <th></th>\n",
       "      <th>x</th>\n",
       "      <th>y</th>\n",
       "      <th>z</th>\n",
       "    </tr>\n",
       "  </thead>\n",
       "  <tbody>\n",
       "    <tr>\n",
       "      <th>0</th>\n",
       "      <td>1</td>\n",
       "      <td>2</td>\n",
       "      <td>3</td>\n",
       "    </tr>\n",
       "    <tr>\n",
       "      <th>1</th>\n",
       "      <td>4</td>\n",
       "      <td>5</td>\n",
       "      <td>6</td>\n",
       "    </tr>\n",
       "    <tr>\n",
       "      <th>2</th>\n",
       "      <td>1</td>\n",
       "      <td>2</td>\n",
       "      <td>1</td>\n",
       "    </tr>\n",
       "  </tbody>\n",
       "</table>\n",
       "</div>"
      ],
      "text/plain": [
       "   x  y  z\n",
       "0  1  2  3\n",
       "1  4  5  6\n",
       "2  1  2  1"
      ]
     },
     "execution_count": 1261,
     "metadata": {},
     "output_type": "execute_result"
    }
   ],
   "source": [
    "arr = np.array([\n",
    "    [1, 2, 3],\n",
    "    [4, 5, 6],\n",
    "    [1, 2, 1]\n",
    "])\n",
    "df = pd.DataFrame(arr, columns=['x', 'y', 'z' ])\n",
    "df"
   ]
  },
  {
   "cell_type": "markdown",
   "metadata": {},
   "source": [
    "Mặc dù ví dụ này trông hầu như giống như là list lồng  thực hiện ở trên, nó có một lợi thế. Bạn có thể chỉ định copy parameter tùy ý.\n",
    "Khi copy thiết lập là False(đó là mặc định), dữ liệu từ Numy array sẽ không được sao chép. Điều đó có nghĩa, dữ liệu gốc đươc từ array được chuyển sao Pandas DataFrame. Nếu bạn sửa đổ array, khi đó DataFrame của bạn sẽ thay đổi theo"
   ]
  },
  {
   "cell_type": "code",
   "execution_count": 1262,
   "metadata": {},
   "outputs": [
    {
     "data": {
      "text/html": [
       "<div>\n",
       "<style scoped>\n",
       "    .dataframe tbody tr th:only-of-type {\n",
       "        vertical-align: middle;\n",
       "    }\n",
       "\n",
       "    .dataframe tbody tr th {\n",
       "        vertical-align: top;\n",
       "    }\n",
       "\n",
       "    .dataframe thead th {\n",
       "        text-align: right;\n",
       "    }\n",
       "</style>\n",
       "<table border=\"1\" class=\"dataframe\">\n",
       "  <thead>\n",
       "    <tr style=\"text-align: right;\">\n",
       "      <th></th>\n",
       "      <th>x</th>\n",
       "      <th>y</th>\n",
       "      <th>z</th>\n",
       "    </tr>\n",
       "  </thead>\n",
       "  <tbody>\n",
       "    <tr>\n",
       "      <th>0</th>\n",
       "      <td>1000</td>\n",
       "      <td>2</td>\n",
       "      <td>3</td>\n",
       "    </tr>\n",
       "    <tr>\n",
       "      <th>1</th>\n",
       "      <td>4</td>\n",
       "      <td>5</td>\n",
       "      <td>6</td>\n",
       "    </tr>\n",
       "    <tr>\n",
       "      <th>2</th>\n",
       "      <td>1</td>\n",
       "      <td>2</td>\n",
       "      <td>1</td>\n",
       "    </tr>\n",
       "  </tbody>\n",
       "</table>\n",
       "</div>"
      ],
      "text/plain": [
       "      x  y  z\n",
       "0  1000  2  3\n",
       "1     4  5  6\n",
       "2     1  2  1"
      ]
     },
     "execution_count": 1262,
     "metadata": {},
     "output_type": "execute_result"
    }
   ],
   "source": [
    "arr[0, 0] = 1000\n",
    "df"
   ]
  },
  {
   "cell_type": "markdown",
   "metadata": {},
   "source": [
    "Như bạn có thể thấy, khi bạn thay đổi item đầu của arr, bạn cũng sửa đổi df\n",
    "   ### Note: không sao chép giá trị dữ liệu có thể giúp bạn tiết kiệm một khoảng thời gian và sức mạnh xử lý đang kể khi làm việc với datasets lớn. "
   ]
  },
  {
   "cell_type": "markdown",
   "metadata": {},
   "source": [
    "Tạo một Pandas DataFrame từ Files. Bạn có thể lưu và load dữ liệu và nhãn từ một Pandas DataFrame đến và mốt số kiểu file, bao gồm CSV, Excel, SQL, JSON và hơn thể nữa. Đó là một đặc tính rất mạnh.\n",
    "Bạn có thể lưu DataFrame ứng viên công việc từ một CSV file cùng to_csv()."
   ]
  },
  {
   "cell_type": "markdown",
   "metadata": {},
   "source": [
    ">>> df.to_csv('data.csv')"
   ]
  },
  {
   "cell_type": "raw",
   "metadata": {},
   "source": [
    "Câu lệnh ở trên sẽ tạo ra một CSV file được gọi là data.csv trong danh mục làm việc của bạn"
   ]
  },
  {
   "cell_type": "markdown",
   "metadata": {},
   "source": [
    "<ol>,name,city,age,py-score</ol>\n",
    "<ol>101,nam,Mexico City,41,88.0</ol></ol>\n",
    "<ol>102,jack,france,28,79.0</ol>\n",
    "<ol>103,thin,laos,33,81.0</ol>\n",
    "<ol>104,quang,campuchia,34,80.0</ol>\n",
    "<ol>105,long,Manchester,38,68.0 </ol>\n",
    "<ol>106,hieu,London,31,61.0 </ol>\n",
    "<ol>107,quy,Osaka,37,84.0 </ol>\n"
   ]
  },
  {
   "cell_type": "markdown",
   "metadata": {},
   "source": [
    "Bây giờ bạn có một CSV file cùng với data, bạn có thể load nó cùng với read_csv()"
   ]
  },
  {
   "cell_type": "code",
   "execution_count": 1263,
   "metadata": {},
   "outputs": [
    {
     "data": {
      "text/html": [
       "<div>\n",
       "<style scoped>\n",
       "    .dataframe tbody tr th:only-of-type {\n",
       "        vertical-align: middle;\n",
       "    }\n",
       "\n",
       "    .dataframe tbody tr th {\n",
       "        vertical-align: top;\n",
       "    }\n",
       "\n",
       "    .dataframe thead th {\n",
       "        text-align: right;\n",
       "    }\n",
       "</style>\n",
       "<table border=\"1\" class=\"dataframe\">\n",
       "  <thead>\n",
       "    <tr style=\"text-align: right;\">\n",
       "      <th></th>\n",
       "      <th>name</th>\n",
       "      <th>city</th>\n",
       "      <th>age</th>\n",
       "      <th>py-score</th>\n",
       "    </tr>\n",
       "  </thead>\n",
       "  <tbody>\n",
       "    <tr>\n",
       "      <th>101</th>\n",
       "      <td>Xavier</td>\n",
       "      <td>Mexico City</td>\n",
       "      <td>41</td>\n",
       "      <td>88.0</td>\n",
       "    </tr>\n",
       "    <tr>\n",
       "      <th>102</th>\n",
       "      <td>Ann</td>\n",
       "      <td>Toronto</td>\n",
       "      <td>28</td>\n",
       "      <td>79.0</td>\n",
       "    </tr>\n",
       "    <tr>\n",
       "      <th>103</th>\n",
       "      <td>Jana</td>\n",
       "      <td>Prague</td>\n",
       "      <td>33</td>\n",
       "      <td>81.0</td>\n",
       "    </tr>\n",
       "    <tr>\n",
       "      <th>104</th>\n",
       "      <td>Yi</td>\n",
       "      <td>Shanghai</td>\n",
       "      <td>34</td>\n",
       "      <td>80.0</td>\n",
       "    </tr>\n",
       "    <tr>\n",
       "      <th>105</th>\n",
       "      <td>Robin</td>\n",
       "      <td>Manchester</td>\n",
       "      <td>38</td>\n",
       "      <td>68.0</td>\n",
       "    </tr>\n",
       "    <tr>\n",
       "      <th>106</th>\n",
       "      <td>Amal</td>\n",
       "      <td>Cairo</td>\n",
       "      <td>31</td>\n",
       "      <td>61.0</td>\n",
       "    </tr>\n",
       "    <tr>\n",
       "      <th>107</th>\n",
       "      <td>Nori</td>\n",
       "      <td>Osaka</td>\n",
       "      <td>37</td>\n",
       "      <td>84.0</td>\n",
       "    </tr>\n",
       "  </tbody>\n",
       "</table>\n",
       "</div>"
      ],
      "text/plain": [
       "       name         city  age  py-score\n",
       "101  Xavier  Mexico City   41      88.0\n",
       "102     Ann      Toronto   28      79.0\n",
       "103    Jana       Prague   33      81.0\n",
       "104      Yi     Shanghai   34      80.0\n",
       "105   Robin   Manchester   38      68.0\n",
       "106    Amal        Cairo   31      61.0\n",
       "107    Nori        Osaka   37      84.0"
      ]
     },
     "execution_count": 1263,
     "metadata": {},
     "output_type": "execute_result"
    }
   ],
   "source": [
    "df = pd.read_csv(\"data.csv\", index_col= 0)\n",
    "df"
   ]
  },
  {
   "cell_type": "markdown",
   "metadata": {},
   "source": [
    "Đó là cách bạn lấy một Pandas DataFrame từ một file. Trong trường hợp, index_col=0 chỉ đinh rằng nhãn của hàng ở ví trí đầu của cột của file CSV file."
   ]
  },
  {
   "cell_type": "markdown",
   "metadata": {},
   "source": [
    "# Truy xuất nhãn và hàng.\n",
    "Bây giờ mà bạn đã tạo DataFrame của bạn, bạn có thể bắt đầu truy xuất thông tin  từ nó. Cùng với Pandas, Bạn có thể làm theo những hoạt động sau:\n",
    "    <ol>*Truy xuất và sửa đổi nhãn hàng và cột theo thứ tự </ol>\n",
    "    <ol>*Biểu diễn dữ liệu như là Numpy arrays</ol>\n",
    "    <ol>*Kiểm tra và chỉnh sửa kiểu data</ol>\n",
    "    <ol>*Phân tích kích cỡ của đổi tượng DataFrame</ol>"
   ]
  },
  {
   "cell_type": "markdown",
   "metadata": {},
   "source": [
    "# Pandas DataFrame Labels as Sequences\n",
    "Pandas DataFrame Label sequences.\n",
    "Bạn có thể lấy hàng DataFrame với .index và nhãn cột với .columns"
   ]
  },
  {
   "cell_type": "code",
   "execution_count": 1264,
   "metadata": {},
   "outputs": [
    {
     "data": {
      "text/plain": [
       "Int64Index([101, 102, 103, 104, 105, 106, 107], dtype='int64')"
      ]
     },
     "execution_count": 1264,
     "metadata": {},
     "output_type": "execute_result"
    }
   ],
   "source": [
    "df.index"
   ]
  },
  {
   "cell_type": "code",
   "execution_count": 1265,
   "metadata": {},
   "outputs": [
    {
     "data": {
      "text/plain": [
       "Index(['name', 'city', 'age', 'py-score'], dtype='object')"
      ]
     },
     "execution_count": 1265,
     "metadata": {},
     "output_type": "execute_result"
    }
   ],
   "source": [
    "df.columns"
   ]
  },
  {
   "cell_type": "markdown",
   "metadata": {},
   "source": [
    "Bây giờ bạn có nhãn của hàng và cột là loại sequences đặt biệt. Bạn có thể bất kì Sequence Python khác, bạn có thể lấy duy nhất một item"
   ]
  },
  {
   "cell_type": "code",
   "execution_count": 1266,
   "metadata": {},
   "outputs": [
    {
     "data": {
      "text/plain": [
       "'city'"
      ]
     },
     "execution_count": 1266,
     "metadata": {},
     "output_type": "execute_result"
    }
   ],
   "source": [
    "df.columns[1]"
   ]
  },
  {
   "cell_type": "markdown",
   "metadata": {},
   "source": [
    "Ngoài ra để trích xuẩt một item cụ thể, bạn có thể áp dụng hoạt động trình tự khác, bao gồm lặp lại qua nhãn của hàng hoặc cột. Tuy nhiên, điều đó ít khi cần thiết kể từ khi Pandas đề nghị các khác để lặp qua DataFrame, trong đó bạn sẽ thấy trong phần later.\n",
    "Bạn cũng có thể tiếp cận sửa đổi nhãn:\n",
    "    "
   ]
  },
  {
   "cell_type": "code",
   "execution_count": 1267,
   "metadata": {},
   "outputs": [
    {
     "data": {
      "text/plain": [
       "Int64Index([10, 11, 12, 13, 14, 15, 16], dtype='int64')"
      ]
     },
     "execution_count": 1267,
     "metadata": {},
     "output_type": "execute_result"
    }
   ],
   "source": [
    "df.index = np.arange(10,  17)\n",
    "df.index"
   ]
  },
  {
   "cell_type": "code",
   "execution_count": 1268,
   "metadata": {},
   "outputs": [
    {
     "data": {
      "text/html": [
       "<div>\n",
       "<style scoped>\n",
       "    .dataframe tbody tr th:only-of-type {\n",
       "        vertical-align: middle;\n",
       "    }\n",
       "\n",
       "    .dataframe tbody tr th {\n",
       "        vertical-align: top;\n",
       "    }\n",
       "\n",
       "    .dataframe thead th {\n",
       "        text-align: right;\n",
       "    }\n",
       "</style>\n",
       "<table border=\"1\" class=\"dataframe\">\n",
       "  <thead>\n",
       "    <tr style=\"text-align: right;\">\n",
       "      <th></th>\n",
       "      <th>name</th>\n",
       "      <th>city</th>\n",
       "      <th>age</th>\n",
       "      <th>py-score</th>\n",
       "    </tr>\n",
       "  </thead>\n",
       "  <tbody>\n",
       "    <tr>\n",
       "      <th>10</th>\n",
       "      <td>Xavier</td>\n",
       "      <td>Mexico City</td>\n",
       "      <td>41</td>\n",
       "      <td>88.0</td>\n",
       "    </tr>\n",
       "    <tr>\n",
       "      <th>11</th>\n",
       "      <td>Ann</td>\n",
       "      <td>Toronto</td>\n",
       "      <td>28</td>\n",
       "      <td>79.0</td>\n",
       "    </tr>\n",
       "    <tr>\n",
       "      <th>12</th>\n",
       "      <td>Jana</td>\n",
       "      <td>Prague</td>\n",
       "      <td>33</td>\n",
       "      <td>81.0</td>\n",
       "    </tr>\n",
       "    <tr>\n",
       "      <th>13</th>\n",
       "      <td>Yi</td>\n",
       "      <td>Shanghai</td>\n",
       "      <td>34</td>\n",
       "      <td>80.0</td>\n",
       "    </tr>\n",
       "    <tr>\n",
       "      <th>14</th>\n",
       "      <td>Robin</td>\n",
       "      <td>Manchester</td>\n",
       "      <td>38</td>\n",
       "      <td>68.0</td>\n",
       "    </tr>\n",
       "    <tr>\n",
       "      <th>15</th>\n",
       "      <td>Amal</td>\n",
       "      <td>Cairo</td>\n",
       "      <td>31</td>\n",
       "      <td>61.0</td>\n",
       "    </tr>\n",
       "    <tr>\n",
       "      <th>16</th>\n",
       "      <td>Nori</td>\n",
       "      <td>Osaka</td>\n",
       "      <td>37</td>\n",
       "      <td>84.0</td>\n",
       "    </tr>\n",
       "  </tbody>\n",
       "</table>\n",
       "</div>"
      ],
      "text/plain": [
       "      name         city  age  py-score\n",
       "10  Xavier  Mexico City   41      88.0\n",
       "11     Ann      Toronto   28      79.0\n",
       "12    Jana       Prague   33      81.0\n",
       "13      Yi     Shanghai   34      80.0\n",
       "14   Robin   Manchester   38      68.0\n",
       "15    Amal        Cairo   31      61.0\n",
       "16    Nori        Osaka   37      84.0"
      ]
     },
     "execution_count": 1268,
     "metadata": {},
     "output_type": "execute_result"
    }
   ],
   "source": [
    "df"
   ]
  },
  {
   "cell_type": "markdown",
   "metadata": {},
   "source": [
    "Trong ví này này, bạn dùng numpy.arange() để tạo ra một trình tự nhãn hàng mà chưa sự lặp lại từ 10, 16.  Ghi nhớ răng nếu bạn cố gắng sửa đổi một item cụ thể của .index hoặc .columns, khi đó bạn sẽ nhận lỗi TypError."
   ]
  },
  {
   "cell_type": "markdown",
   "metadata": {},
   "source": [
    "# Data as Numpy Arrays\n",
    "Đôi khi bạn có thể muốn trích xuất dữ liệu từ một Pandas DataFrame không có nhãn của nó. Để lấy một Numpy array với  dán nhãn data, hoặc bạn dùng .to_numpy() hoặc .values"
   ]
  },
  {
   "cell_type": "code",
   "execution_count": 1269,
   "metadata": {},
   "outputs": [
    {
     "data": {
      "text/plain": [
       "array([['Xavier', 'Mexico City', 41, 88.0],\n",
       "       ['Ann', 'Toronto', 28, 79.0],\n",
       "       ['Jana', 'Prague', 33, 81.0],\n",
       "       ['Yi', 'Shanghai', 34, 80.0],\n",
       "       ['Robin', 'Manchester', 38, 68.0],\n",
       "       ['Amal', 'Cairo', 31, 61.0],\n",
       "       ['Nori', 'Osaka', 37, 84.0]], dtype=object)"
      ]
     },
     "execution_count": 1269,
     "metadata": {},
     "output_type": "execute_result"
    }
   ],
   "source": [
    "df.to_numpy()"
   ]
  },
  {
   "cell_type": "markdown",
   "metadata": {},
   "source": [
    "Cả 2 cách .to_numpy() và .values làm việc giống nhau, và cả 2 đều trả về một  Numpy array với dữ liệu từ DataFrame."
   ]
  },
  {
   "cell_type": "markdown",
   "metadata": {},
   "source": [
    "Image"
   ]
  },
  {
   "cell_type": "markdown",
   "metadata": {},
   "source": [
    "The Pandas documentation suggests using .to_numpy() because of the flexibility offered by two optional parameters:\n",
    "\n",
    "dtype: Use this parameter to specify the data type of the resulting array. It’s set to None by default.\n",
    "copy: Set this parameter to False if you want to use the original data from the DataFrame. Set it to True if you want to make a copy of the data.\n",
    "However, .values has been around for much longer than .to_numpy(), which was introduced in Pandas version 0.24.0. That means you’ll probably see .values more often, especially in older code."
   ]
  },
  {
   "cell_type": "markdown",
   "metadata": {},
   "source": [
    "# Kiểu dữ liệu\n",
    "Kiểu giá trị dữ liệu, cũng được gọi là data types hoặc dtypes, là quan trọng bởi vì nó xác định dung lượng ram DataFrame của bạn dùng, nó cũng tính toán tốc độ và mức độ chính xác.\n",
    "\n",
    "*Pandas relies heavily on NumPy data types. However, Pandas 1.0 introduced some additional types:\n",
    "\n",
    "BooleanDtype and BooleanArray support missing Boolean values and Kleene three-value logic.\n",
    "StringDtype and StringArray represent a dedicated string type.*"
   ]
  },
  {
   "cell_type": "markdown",
   "metadata": {},
   "source": [
    "Bạn cũng có thể lấy kiểu dữ liệu một cột của Pandas DataFrame với .dtype:\n"
   ]
  },
  {
   "cell_type": "code",
   "execution_count": 1270,
   "metadata": {},
   "outputs": [
    {
     "data": {
      "text/plain": [
       "name         object\n",
       "city         object\n",
       "age           int64\n",
       "py-score    float64\n",
       "dtype: object"
      ]
     },
     "execution_count": 1270,
     "metadata": {},
     "output_type": "execute_result"
    }
   ],
   "source": [
    "df.dtypes"
   ]
  },
  {
   "cell_type": "markdown",
   "metadata": {},
   "source": [
    "Như bạn thấy, .dtypes trả về một Series với tên của cột dưới dạng nhãn và kiểu dữ liệu dưới dạng giá trị\n",
    "Nếu bạn muốn sửa đổi kiểu dữ liệu của một hoặc hơn của cột, khi đó bạn dùng .astype():\n"
   ]
  },
  {
   "cell_type": "code",
   "execution_count": 1271,
   "metadata": {},
   "outputs": [
    {
     "data": {
      "text/plain": [
       "name         object\n",
       "city         object\n",
       "age           int32\n",
       "py-score    float32\n",
       "dtype: object"
      ]
     },
     "execution_count": 1271,
     "metadata": {},
     "output_type": "execute_result"
    }
   ],
   "source": [
    "df_ = df.astype(dtype={'age': np.int32, 'py-score': np.float32})\n",
    "df_.dtypes"
   ]
  },
  {
   "cell_type": "markdown",
   "metadata": {},
   "source": [
    "The most important and only mandatory parameter of .astype() is dtype. It expects a data type or dictionary. If you pass a dictionary, then the keys are the column names and the values are your desired corresponding data types.\n",
    "\n",
    "As you can see, the data types for the columns age and py-score in the DataFrame df are both int64, which represents 64-bit (or 8-byte) integers. However, df_ also offers a smaller, 32-bit (4-byte) integer data type called int32.\n",
    "\n"
   ]
  },
  {
   "cell_type": "markdown",
   "metadata": {},
   "source": [
    "# Kích cỡ DataFrame Size\n",
    "Thuốc tính .ndim, .size, and .shape trả về số chiều, số giá trị dữ liệu qua mỗi chiều, và toàn bộ số giá trị dữ liệu, "
   ]
  },
  {
   "cell_type": "code",
   "execution_count": 1272,
   "metadata": {},
   "outputs": [
    {
     "data": {
      "text/plain": [
       "2"
      ]
     },
     "execution_count": 1272,
     "metadata": {},
     "output_type": "execute_result"
    }
   ],
   "source": [
    "df.ndim"
   ]
  },
  {
   "cell_type": "code",
   "execution_count": 1273,
   "metadata": {},
   "outputs": [
    {
     "data": {
      "text/plain": [
       "(7, 4)"
      ]
     },
     "execution_count": 1273,
     "metadata": {},
     "output_type": "execute_result"
    }
   ],
   "source": [
    "df.shape"
   ]
  },
  {
   "cell_type": "code",
   "execution_count": 1274,
   "metadata": {},
   "outputs": [
    {
     "data": {
      "text/plain": [
       "28"
      ]
     },
     "execution_count": 1274,
     "metadata": {},
     "output_type": "execute_result"
    }
   ],
   "source": [
    "df.size"
   ]
  },
  {
   "cell_type": "markdown",
   "metadata": {},
   "source": [
    "DataFrame là trường hợp có 2 chiều ( hàng và cột), vì vậy .ndim trả về 2. Một object series,  mặt khác, chỉ có một chiều duy nhất,  vì vậy mà trường hợp, .ndim sẽ trả về 1\n",
    "The thuộc tính .shape trả về một tuple với số dòng và số cột. Cuối cungd, .size trả về  một số nguyên bằng với số giá trị trong DataFrame. Bạn cũng có thể kiểm trả lượng ram đã dùng mỗi cột với .memory_usage()\n",
    "\n"
   ]
  },
  {
   "cell_type": "code",
   "execution_count": 1275,
   "metadata": {},
   "outputs": [
    {
     "data": {
      "text/plain": [
       "Index       56\n",
       "name        28\n",
       "city        28\n",
       "age         56\n",
       "py-score    56\n",
       "dtype: int64"
      ]
     },
     "execution_count": 1275,
     "metadata": {},
     "output_type": "execute_result"
    }
   ],
   "source": [
    "df.memory_usage()"
   ]
  },
  {
   "cell_type": "markdown",
   "metadata": {},
   "source": [
    "Như bạn thấy, .memory_usage() trả về một Series với tên cột với nhãn và memory sử dụng là bytes với giá trị dữ liệu. Nếu bạn muốn  loại trừ ram sử dụng của cột mà nó chưa nhãn hàng thì chuyển argument tùy ý là index = False\n",
    "Trong ví dụ trên, 2 cột cuối age và py-score, sử dụng 28 bytes mỗi memory. Đó là bởi vì cột của nó có 7 giá trị, mỗi trong đó là số nguyên 32 bits, hoaccwj 4 bytes. 7 số nguyên 4 bytes bằng toàn bột 28 bytes của memory sử dụng"
   ]
  },
  {
   "cell_type": "markdown",
   "metadata": {},
   "source": [
    "# Truy cập và sửa đổi  dữ liệu.\n",
    "Bạn đã học cách get một hàng cụ hàng hoặc cột cụ thể của một Pandas DataFrame cũng như Series :\n"
   ]
  },
  {
   "cell_type": "code",
   "execution_count": 1276,
   "metadata": {},
   "outputs": [
    {
     "data": {
      "text/plain": [
       "10    Xavier\n",
       "11       Ann\n",
       "12      Jana\n",
       "13        Yi\n",
       "14     Robin\n",
       "15      Amal\n",
       "16      Nori\n",
       "Name: name, dtype: object"
      ]
     },
     "execution_count": 1276,
     "metadata": {},
     "output_type": "execute_result"
    }
   ],
   "source": [
    "df['name']"
   ]
  },
  {
   "cell_type": "code",
   "execution_count": 1277,
   "metadata": {},
   "outputs": [
    {
     "data": {
      "text/plain": [
       "name             Xavier\n",
       "city        Mexico City\n",
       "age                  41\n",
       "py-score             88\n",
       "Name: 10, dtype: object"
      ]
     },
     "execution_count": 1277,
     "metadata": {},
     "output_type": "execute_result"
    }
   ],
   "source": [
    "df.loc[10]"
   ]
  },
  {
   "cell_type": "markdown",
   "metadata": {},
   "source": [
    "Trong ví dụ đầu, bạn truy cập cột 'name' cũng như bạn sẽ truy cập thành phần từ dictionary, bằng cach dùng nhãn của nó bằng key.f the column label is a valid Python identifier, then you can also use dot notation to access the column. In the second example, you use .loc[] to get the row by its label, 10."
   ]
  },
  {
   "cell_type": "markdown",
   "metadata": {},
   "source": [
    "# Lấy dữ liệu với Accesors\n",
    "Ngoài cách truy cập .loc[], đó là bạn có thể lấy hàng hoặc cột bởi nhãn của nó, Pandas đưa trả cái accessor .iloc[], đó là truy cập vào hàng hoặc cột bằng integer index. Phần lớn trường hợp, bạn có thề dùng một trong 2"
   ]
  },
  {
   "cell_type": "code",
   "execution_count": 1278,
   "metadata": {},
   "outputs": [
    {
     "data": {
      "text/plain": [
       "name             Xavier\n",
       "city        Mexico City\n",
       "age                  41\n",
       "py-score             88\n",
       "Name: 10, dtype: object"
      ]
     },
     "execution_count": 1278,
     "metadata": {},
     "output_type": "execute_result"
    }
   ],
   "source": [
    "df.loc[10]"
   ]
  },
  {
   "cell_type": "code",
   "execution_count": 1279,
   "metadata": {},
   "outputs": [
    {
     "data": {
      "text/plain": [
       "name             Xavier\n",
       "city        Mexico City\n",
       "age                  41\n",
       "py-score             88\n",
       "Name: 10, dtype: object"
      ]
     },
     "execution_count": 1279,
     "metadata": {},
     "output_type": "execute_result"
    }
   ],
   "source": [
    "df.iloc[0]"
   ]
  },
  {
   "cell_type": "markdown",
   "metadata": {},
   "source": [
    "df.iloc[10] trả về hàng cùng với nhãn 10. Tương tự, df.iloc[0] trả về với zero-based index 0, đó là hàng đầu tiên. Như bạn thấy, cả 2 statement trả về hàng giống nhau as a Series object.\n",
    "Pandas có  toàn bộ 4 cách truy cập:\n",
    "    1. ilocp[] chấp nhập với nhãn của hàng và cột và trả về Series hoặc DataFrame. Bạn có thể dùng nó để lấy toàn bộ hàng hoặc cột, as well as their parts.\n",
    "    2. .iloc[] chấp nhận với chỉ số zero-based  của hàng và cột và trả vè Series của DataFrame. Bạn có thể dùng nó để lấy toàn bộ hàng hoặc cột, hoặc một phần của chúng.\n",
    "    3. at[] chấp nhẫn nhãn của hàng và cột và trả về một giá trị dữ liệu duy nhất\n",
    "    4. iat] chập nhận một chỉ số zero-based  của hàng và cột và trả về một giá trị dữ liệu duy nhất.\n",
    "Trong số này, .loc[] và .iloc[]  đặc biệt mạnh mẽ. Chúng hỗ trợ slicing và Numpy-style indexing. Bạn có thể dùng chúng để truy cập một cột"
   ]
  },
  {
   "cell_type": "code",
   "execution_count": 1280,
   "metadata": {},
   "outputs": [
    {
     "data": {
      "text/plain": [
       "10    Mexico City\n",
       "11        Toronto\n",
       "12         Prague\n",
       "13       Shanghai\n",
       "14     Manchester\n",
       "15          Cairo\n",
       "16          Osaka\n",
       "Name: city, dtype: object"
      ]
     },
     "execution_count": 1280,
     "metadata": {},
     "output_type": "execute_result"
    }
   ],
   "source": [
    "df.loc[:, 'city']"
   ]
  },
  {
   "cell_type": "code",
   "execution_count": 1281,
   "metadata": {},
   "outputs": [
    {
     "data": {
      "text/plain": [
       "10    Mexico City\n",
       "11        Toronto\n",
       "12         Prague\n",
       "13       Shanghai\n",
       "14     Manchester\n",
       "15          Cairo\n",
       "16          Osaka\n",
       "Name: city, dtype: object"
      ]
     },
     "execution_count": 1281,
     "metadata": {},
     "output_type": "execute_result"
    }
   ],
   "source": [
    "df.iloc[:, 1]"
   ]
  },
  {
   "cell_type": "markdown",
   "metadata": {},
   "source": [
    "df.iloc[:, 'city'] trả về cột của city. Cấu trúc slice(:) đặt trong nhãn hàng có nghĩa là tất cả hàng bao gồm. df.iloc[:, 1] trả về một cột bởi vì zero-based index 1 đề cập hàng thứ 2, city\n",
    "Cũng như bạn có thể làm với Numpy, bạn có thể cung cập slices với lists hoặc arrays thay thế chỉ số để lấy nhiều hàng hoặc cột\n"
   ]
  },
  {
   "cell_type": "code",
   "execution_count": 1282,
   "metadata": {},
   "outputs": [
    {
     "data": {
      "text/html": [
       "<div>\n",
       "<style scoped>\n",
       "    .dataframe tbody tr th:only-of-type {\n",
       "        vertical-align: middle;\n",
       "    }\n",
       "\n",
       "    .dataframe tbody tr th {\n",
       "        vertical-align: top;\n",
       "    }\n",
       "\n",
       "    .dataframe thead th {\n",
       "        text-align: right;\n",
       "    }\n",
       "</style>\n",
       "<table border=\"1\" class=\"dataframe\">\n",
       "  <thead>\n",
       "    <tr style=\"text-align: right;\">\n",
       "      <th></th>\n",
       "      <th>name</th>\n",
       "      <th>city</th>\n",
       "    </tr>\n",
       "  </thead>\n",
       "  <tbody>\n",
       "    <tr>\n",
       "      <th>11</th>\n",
       "      <td>Ann</td>\n",
       "      <td>Toronto</td>\n",
       "    </tr>\n",
       "    <tr>\n",
       "      <th>12</th>\n",
       "      <td>Jana</td>\n",
       "      <td>Prague</td>\n",
       "    </tr>\n",
       "    <tr>\n",
       "      <th>13</th>\n",
       "      <td>Yi</td>\n",
       "      <td>Shanghai</td>\n",
       "    </tr>\n",
       "    <tr>\n",
       "      <th>14</th>\n",
       "      <td>Robin</td>\n",
       "      <td>Manchester</td>\n",
       "    </tr>\n",
       "    <tr>\n",
       "      <th>15</th>\n",
       "      <td>Amal</td>\n",
       "      <td>Cairo</td>\n",
       "    </tr>\n",
       "  </tbody>\n",
       "</table>\n",
       "</div>"
      ],
      "text/plain": [
       "     name        city\n",
       "11    Ann     Toronto\n",
       "12   Jana      Prague\n",
       "13     Yi    Shanghai\n",
       "14  Robin  Manchester\n",
       "15   Amal       Cairo"
      ]
     },
     "execution_count": 1282,
     "metadata": {},
     "output_type": "execute_result"
    }
   ],
   "source": [
    "df.loc[11: 15,['name', 'city']]"
   ]
  },
  {
   "cell_type": "code",
   "execution_count": 1283,
   "metadata": {},
   "outputs": [
    {
     "data": {
      "text/html": [
       "<div>\n",
       "<style scoped>\n",
       "    .dataframe tbody tr th:only-of-type {\n",
       "        vertical-align: middle;\n",
       "    }\n",
       "\n",
       "    .dataframe tbody tr th {\n",
       "        vertical-align: top;\n",
       "    }\n",
       "\n",
       "    .dataframe thead th {\n",
       "        text-align: right;\n",
       "    }\n",
       "</style>\n",
       "<table border=\"1\" class=\"dataframe\">\n",
       "  <thead>\n",
       "    <tr style=\"text-align: right;\">\n",
       "      <th></th>\n",
       "      <th>name</th>\n",
       "      <th>city</th>\n",
       "    </tr>\n",
       "  </thead>\n",
       "  <tbody>\n",
       "    <tr>\n",
       "      <th>11</th>\n",
       "      <td>Ann</td>\n",
       "      <td>Toronto</td>\n",
       "    </tr>\n",
       "    <tr>\n",
       "      <th>12</th>\n",
       "      <td>Jana</td>\n",
       "      <td>Prague</td>\n",
       "    </tr>\n",
       "    <tr>\n",
       "      <th>13</th>\n",
       "      <td>Yi</td>\n",
       "      <td>Shanghai</td>\n",
       "    </tr>\n",
       "    <tr>\n",
       "      <th>14</th>\n",
       "      <td>Robin</td>\n",
       "      <td>Manchester</td>\n",
       "    </tr>\n",
       "    <tr>\n",
       "      <th>15</th>\n",
       "      <td>Amal</td>\n",
       "      <td>Cairo</td>\n",
       "    </tr>\n",
       "  </tbody>\n",
       "</table>\n",
       "</div>"
      ],
      "text/plain": [
       "     name        city\n",
       "11    Ann     Toronto\n",
       "12   Jana      Prague\n",
       "13     Yi    Shanghai\n",
       "14  Robin  Manchester\n",
       "15   Amal       Cairo"
      ]
     },
     "execution_count": 1283,
     "metadata": {},
     "output_type": "execute_result"
    }
   ],
   "source": [
    "df.iloc[1: 6,[0, 1]]"
   ]
  },
  {
   "cell_type": "markdown",
   "metadata": {},
   "source": [
    "Note: Don’t use tuples instead of lists or integer arrays to get ordinary rows or columns. Tuples are reserved for representing multiple dimensions in NumPy and Pandas, as well as hierarchical, or multi-level, indexing in Pandas."
   ]
  },
  {
   "cell_type": "markdown",
   "metadata": {},
   "source": [
    "Trong ví dụ, bạn dùng:\n",
    "        *slices để lấy hàng cũng với nhãn 11 đến 15, đó là tưởng đương chỉ số từ 1 đến 5\n",
    "        *List để get cột 'name' và 'city', điều đó tương đương với chỉ từ từ 0 và 1\n",
    "2 cái trên trả về một Pandas DataFrame với giao điểm mong muốn của 5 hàng và 2 cột.\n",
    "Điều đó mang lên một khác nhau rất quan trọng giữa .iloc và .iloc[]. Như bạn có thể thây từ ví dụ trước, khi bạn chuyển nhãn hàng 11: 15 đến .iloc, bạn nhận được hàng từ 11 đến 15. Tuy nhiên, khi bạn chuyển chỉ số row 1:6 đến .iloc[] đến .iloc[], bạn chỉ nhận hàng với chỉ số 1 đến 5.\n",
    "Lý do bạn chỉ nhận chỉ số từ 1 đến 5 là, với .iloc[], stop index của slice là là riêng biệt, nghĩa là nó loại trừ từ giá trị trả về. Điều này thích hơp với Python sequences và Numpy arrays. Với .loc[], tuy nhiên,. cả 2 bắt đầu và dừng lại chỉ số là  bao gồm, nghĩa là chúng bao gồm với giá trị trả về. \n",
    "Bạn có thể bỏ qua hàng và cột với .iloc[] cách giống nhau bạn có thể với slicing tuples, lists, and Numpy arrays:\n"
   ]
  },
  {
   "cell_type": "code",
   "execution_count": 1284,
   "metadata": {},
   "outputs": [
    {
     "data": {
      "text/plain": [
       "11     Ann\n",
       "13      Yi\n",
       "15    Amal\n",
       "Name: name, dtype: object"
      ]
     },
     "execution_count": 1284,
     "metadata": {},
     "output_type": "execute_result"
    }
   ],
   "source": [
    "df.iloc[1: 6: 2, 0]"
   ]
  },
  {
   "cell_type": "markdown",
   "metadata": {},
   "source": [
    "Trong ví dụ này, bạn xác định chỉ số hàng mong muốn với slice 1: 6: 2. Điều này có nghĩa là bạn bắt đầu với hàng mà có index 1(hàng thứ 2), dừng lại trước khi hàng với index 6(hàng thứ 7), và bỏ qua mọi hàng thứ 2\n",
    "Thay thế cách dùng cấu trúc slice, bạn có thể cũng dùng built-in Python class slice(), cũng như numpy.s_[] hoặc pd.IndexSlice[]"
   ]
  },
  {
   "cell_type": "code",
   "execution_count": 1285,
   "metadata": {},
   "outputs": [
    {
     "data": {
      "text/plain": [
       "11     Ann\n",
       "13      Yi\n",
       "15    Amal\n",
       "Name: name, dtype: object"
      ]
     },
     "execution_count": 1285,
     "metadata": {},
     "output_type": "execute_result"
    }
   ],
   "source": [
    "df.iloc[slice(1, 6, 2), 0]"
   ]
  },
  {
   "cell_type": "code",
   "execution_count": 1286,
   "metadata": {},
   "outputs": [
    {
     "data": {
      "text/plain": [
       "11     Ann\n",
       "13      Yi\n",
       "15    Amal\n",
       "Name: name, dtype: object"
      ]
     },
     "execution_count": 1286,
     "metadata": {},
     "output_type": "execute_result"
    }
   ],
   "source": [
    "df.iloc[np.s_[1: 6: 2], 0]"
   ]
  },
  {
   "cell_type": "code",
   "execution_count": 1287,
   "metadata": {},
   "outputs": [
    {
     "data": {
      "text/plain": [
       "11     Ann\n",
       "13      Yi\n",
       "15    Amal\n",
       "Name: name, dtype: object"
      ]
     },
     "execution_count": 1287,
     "metadata": {},
     "output_type": "execute_result"
    }
   ],
   "source": [
    "df.iloc[pd.IndexSlice[1:6:2], 0]"
   ]
  },
  {
   "cell_type": "markdown",
   "metadata": {},
   "source": [
    "Bạn sẽ tìm một trong những tiếp cận này thuận tiện hơn tùy thuộc vào tình hình của bạn. Nó khả thi để dùng .iloc và .iloc[] để lấy giá trị dữ liệu cụ thể. Tuy nhiên, khi bạn cần chỉ một giá trị duy nhất, Pandas giới thiệu cách dùng truy cập riêng đó là .at[] và .iat[]"
   ]
  },
  {
   "cell_type": "code",
   "execution_count": 1288,
   "metadata": {},
   "outputs": [
    {
     "data": {
      "text/plain": [
       "'Jana'"
      ]
     },
     "execution_count": 1288,
     "metadata": {},
     "output_type": "execute_result"
    }
   ],
   "source": [
    "df.at[12, 'name']"
   ]
  },
  {
   "cell_type": "code",
   "execution_count": 1289,
   "metadata": {},
   "outputs": [
    {
     "data": {
      "text/plain": [
       "'Jana'"
      ]
     },
     "execution_count": 1289,
     "metadata": {},
     "output_type": "execute_result"
    }
   ],
   "source": [
    "df.iat[2, 0]"
   ]
  },
  {
   "cell_type": "markdown",
   "metadata": {},
   "source": [
    "Ở đó, bạn đã dùng .at[] để lấy tên ứng viên duy nhất đang dùng liên quan đến nhãn cột và hàng. Bạn vẫn có thể dùng .iat[] để truy xuất cùng một tên bằng chỉ số cột và hàng "
   ]
  },
  {
   "cell_type": "markdown",
   "metadata": {},
   "source": [
    "# Thiết lập dữ liệu với người truy cập"
   ]
  },
  {
   "cell_type": "code",
   "execution_count": 1290,
   "metadata": {},
   "outputs": [
    {
     "data": {
      "text/plain": [
       "10    88.0\n",
       "11    79.0\n",
       "12    81.0\n",
       "13    80.0\n",
       "14    68.0\n",
       "15    61.0\n",
       "16    84.0\n",
       "Name: py-score, dtype: float64"
      ]
     },
     "execution_count": 1290,
     "metadata": {},
     "output_type": "execute_result"
    }
   ],
   "source": [
    "df.loc[:, 'py-score']"
   ]
  },
  {
   "cell_type": "code",
   "execution_count": 1291,
   "metadata": {},
   "outputs": [
    {
     "data": {
      "text/plain": [
       "10    10.0\n",
       "11    20.0\n",
       "12    30.0\n",
       "13    40.0\n",
       "14     0.0\n",
       "15     0.0\n",
       "16     0.0\n",
       "Name: py-score, dtype: float64"
      ]
     },
     "execution_count": 1291,
     "metadata": {},
     "output_type": "execute_result"
    }
   ],
   "source": [
    "df.loc[:13, 'py-score'] = [10, 20, 30, 40]\n",
    "df.loc[14:, 'py-score'] = 0\n",
    "df['py-score']"
   ]
  },
  {
   "cell_type": "markdown",
   "metadata": {},
   "source": [
    "Câu lệnh df.loc[:13, 'py-score'] = [10, 20, 30, 40] sửa đổi bốn item đầu ( hàng 10 đến 13) trong cột py-score dùng giá trị từ list cung cập của bạn.Dùng df.loc[14:, 'py-score'] = 0 để thiết lập  giá trị còn lại trong cột bằng 0\n",
    "Ví dụ sau cho thầy rằng bạn cóp thể dùng chỉ số âm với iloc[] để truy cập và sửa đổi giá trị."
   ]
  },
  {
   "cell_type": "code",
   "execution_count": 1292,
   "metadata": {},
   "outputs": [
    {
     "data": {
      "text/plain": [
       "10    88.0\n",
       "11    79.0\n",
       "12    81.0\n",
       "13    80.0\n",
       "14    68.0\n",
       "15    61.0\n",
       "16    84.0\n",
       "Name: py-score, dtype: float64"
      ]
     },
     "execution_count": 1292,
     "metadata": {},
     "output_type": "execute_result"
    }
   ],
   "source": [
    "df.iloc[:, -1] = np.array([88.0, 79.0, 81.0, 80.0, 68.0, 61.0, 84.0])\n",
    "df['py-score']"
   ]
  },
  {
   "cell_type": "markdown",
   "metadata": {},
   "source": [
    "Trong ví dụ này, bạn đã truy cập và sửa đổi cột cuối('py-score'), điều đó liên quan đến integer column index - 1. Hành vi này thích hợp với Python sequences và Numpy arrays"
   ]
  },
  {
   "cell_type": "markdown",
   "metadata": {},
   "source": [
    "# Chèn và xóa dữ liệu\n",
    "python cùng cấp một vài kĩ thuật tiện lợi cho chèn và xóa các hàng và cột. Bạn có thể chọn chúng dựa trên tình hình và sự cần thiết của bạn.\n",
    "## chèn và xóa các hàng\n",
    "Hình dùng, bạn muôn thêm một người mới từ list ứng viên công việc của bạn. Bạn có thể bắt đầu bằng việc tạo một new Series object mà nó liên quan đến ứng viên mới.\n"
   ]
  },
  {
   "cell_type": "code",
   "execution_count": 1293,
   "metadata": {},
   "outputs": [
    {
     "data": {
      "text/plain": [
       "name          John\n",
       "city        Boston\n",
       "age             34\n",
       "py-score        79\n",
       "Name: 17, dtype: object"
      ]
     },
     "execution_count": 1293,
     "metadata": {},
     "output_type": "execute_result"
    }
   ],
   "source": [
    "john = pd.Series(data=['John', 'Boston', 34, 79], index=df.columns, name=17)\n",
    "john"
   ]
  },
  {
   "cell_type": "code",
   "execution_count": 1294,
   "metadata": {},
   "outputs": [
    {
     "data": {
      "text/plain": [
       "17"
      ]
     },
     "execution_count": 1294,
     "metadata": {},
     "output_type": "execute_result"
    }
   ],
   "source": [
    "john.name"
   ]
  },
  {
   "cell_type": "markdown",
   "metadata": {},
   "source": [
    "Đối tượng mới có nhãn mà liên quan đến nhãn cột  từ df. Chính vì vậy bạn cần index = df.columns"
   ]
  }
 ],
 "metadata": {
  "kernelspec": {
   "display_name": "Python 3",
   "language": "python",
   "name": "python3"
  },
  "language_info": {
   "codemirror_mode": {
    "name": "ipython",
    "version": 3
   },
   "file_extension": ".py",
   "mimetype": "text/x-python",
   "name": "python",
   "nbconvert_exporter": "python",
   "pygments_lexer": "ipython3",
   "version": "3.8.2"
  }
 },
 "nbformat": 4,
 "nbformat_minor": 4
}
